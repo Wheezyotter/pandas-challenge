{
 "cells": [
  {
   "cell_type": "code",
   "execution_count": 1,
   "metadata": {},
   "outputs": [
    {
     "data": {
      "text/html": [
       "<div>\n",
       "<style scoped>\n",
       "    .dataframe tbody tr th:only-of-type {\n",
       "        vertical-align: middle;\n",
       "    }\n",
       "\n",
       "    .dataframe tbody tr th {\n",
       "        vertical-align: top;\n",
       "    }\n",
       "\n",
       "    .dataframe thead th {\n",
       "        text-align: right;\n",
       "    }\n",
       "</style>\n",
       "<table border=\"1\" class=\"dataframe\">\n",
       "  <thead>\n",
       "    <tr style=\"text-align: right;\">\n",
       "      <th></th>\n",
       "      <th>Student ID</th>\n",
       "      <th>student_name</th>\n",
       "      <th>gender</th>\n",
       "      <th>grade</th>\n",
       "      <th>school_name</th>\n",
       "      <th>reading_score</th>\n",
       "      <th>math_score</th>\n",
       "      <th>School ID</th>\n",
       "      <th>type</th>\n",
       "      <th>size</th>\n",
       "      <th>budget</th>\n",
       "    </tr>\n",
       "  </thead>\n",
       "  <tbody>\n",
       "    <tr>\n",
       "      <th>0</th>\n",
       "      <td>0</td>\n",
       "      <td>Paul Bradley</td>\n",
       "      <td>M</td>\n",
       "      <td>9th</td>\n",
       "      <td>Huang High School</td>\n",
       "      <td>66</td>\n",
       "      <td>79</td>\n",
       "      <td>0</td>\n",
       "      <td>District</td>\n",
       "      <td>2917</td>\n",
       "      <td>1910635</td>\n",
       "    </tr>\n",
       "    <tr>\n",
       "      <th>1</th>\n",
       "      <td>1</td>\n",
       "      <td>Victor Smith</td>\n",
       "      <td>M</td>\n",
       "      <td>12th</td>\n",
       "      <td>Huang High School</td>\n",
       "      <td>94</td>\n",
       "      <td>61</td>\n",
       "      <td>0</td>\n",
       "      <td>District</td>\n",
       "      <td>2917</td>\n",
       "      <td>1910635</td>\n",
       "    </tr>\n",
       "    <tr>\n",
       "      <th>2</th>\n",
       "      <td>2</td>\n",
       "      <td>Kevin Rodriguez</td>\n",
       "      <td>M</td>\n",
       "      <td>12th</td>\n",
       "      <td>Huang High School</td>\n",
       "      <td>90</td>\n",
       "      <td>60</td>\n",
       "      <td>0</td>\n",
       "      <td>District</td>\n",
       "      <td>2917</td>\n",
       "      <td>1910635</td>\n",
       "    </tr>\n",
       "    <tr>\n",
       "      <th>3</th>\n",
       "      <td>3</td>\n",
       "      <td>Dr. Richard Scott</td>\n",
       "      <td>M</td>\n",
       "      <td>12th</td>\n",
       "      <td>Huang High School</td>\n",
       "      <td>67</td>\n",
       "      <td>58</td>\n",
       "      <td>0</td>\n",
       "      <td>District</td>\n",
       "      <td>2917</td>\n",
       "      <td>1910635</td>\n",
       "    </tr>\n",
       "    <tr>\n",
       "      <th>4</th>\n",
       "      <td>4</td>\n",
       "      <td>Bonnie Ray</td>\n",
       "      <td>F</td>\n",
       "      <td>9th</td>\n",
       "      <td>Huang High School</td>\n",
       "      <td>97</td>\n",
       "      <td>84</td>\n",
       "      <td>0</td>\n",
       "      <td>District</td>\n",
       "      <td>2917</td>\n",
       "      <td>1910635</td>\n",
       "    </tr>\n",
       "  </tbody>\n",
       "</table>\n",
       "</div>"
      ],
      "text/plain": [
       "   Student ID       student_name gender grade        school_name  \\\n",
       "0           0       Paul Bradley      M   9th  Huang High School   \n",
       "1           1       Victor Smith      M  12th  Huang High School   \n",
       "2           2    Kevin Rodriguez      M  12th  Huang High School   \n",
       "3           3  Dr. Richard Scott      M  12th  Huang High School   \n",
       "4           4         Bonnie Ray      F   9th  Huang High School   \n",
       "\n",
       "   reading_score  math_score  School ID      type  size   budget  \n",
       "0             66          79          0  District  2917  1910635  \n",
       "1             94          61          0  District  2917  1910635  \n",
       "2             90          60          0  District  2917  1910635  \n",
       "3             67          58          0  District  2917  1910635  \n",
       "4             97          84          0  District  2917  1910635  "
      ]
     },
     "execution_count": 1,
     "metadata": {},
     "output_type": "execute_result"
    }
   ],
   "source": [
    "import pandas as pd\n",
    "\n",
    "school_data_path = \"../Resources/schools_complete.csv\"\n",
    "student_data_path = \"../Resources/students_complete.csv\"\n",
    "\n",
    "school_data = pd.read_csv(school_data_path)\n",
    "student_data = pd.read_csv(student_data_path)\n",
    "\n",
    "school_data_complete = pd.merge(student_data, school_data, how=\"left\", on=[\"school_name\", \"school_name\"])\n",
    "\n",
    "school_data_complete.head()"
   ]
  },
  {
   "cell_type": "code",
   "execution_count": 30,
   "metadata": {},
   "outputs": [
    {
     "data": {
      "text/plain": [
       "65.17232575950983"
      ]
     },
     "execution_count": 30,
     "metadata": {},
     "output_type": "execute_result"
    }
   ],
   "source": [
    "district_school_count = len(school_data_complete[\"school_name\"].unique())\n",
    "district_student_count = school_data_complete[\"Student ID\"].count()\n",
    "district_budget = school_data_complete[\"budget\"].unique().sum()\n",
    "district_math_score = school_data_complete[\"math_score\"].mean()\n",
    "district_reading_score = school_data_complete[\"reading_score\"].mean()\n",
    "\n",
    "masked_passed_math = school_data_complete[\"math_score\"] >= 70\n",
    "masked_passed_reading = school_data_complete[\"reading_score\"] >= 70\n",
    "masked_passed_overall = (school_data_complete[\"math_score\"] >= 70) & \\\n",
    "                        (school_data_complete[\"reading_score\"] >= 70)\n",
    "\n",
    "district_math_count = school_data_complete[masked_passed_math].count()[\"student_name\"]\n",
    "district_reading_count = school_data_complete[masked_passed_reading].count()[\"student_name\"]\n",
    "district_overall_count = school_data_complete[masked_passed_overall].count()[\"student_name\"]\n",
    "\n",
    "district_math_percent = district_math_count / district_student_count * 100\n",
    "district_reading_percent = district_reading_count / district_student_count * 100\n",
    "district_overall_percent = district_overall_count / district_student_count * 100\n",
    "\n",
    "district_overall_percent"
   ]
  },
  {
   "cell_type": "code",
   "execution_count": 36,
   "metadata": {},
   "outputs": [
    {
     "data": {
      "text/html": [
       "<style  type=\"text/css\" >\n",
       "</style><table id=\"T_d1d896ec_d31e_11ed_bf01_8c85902a34ad\" ><thead>    <tr>        <th class=\"col_heading level0 col0\" >Total Schools</th>        <th class=\"col_heading level0 col1\" >Total Students</th>        <th class=\"col_heading level0 col2\" >Total Budget</th>        <th class=\"col_heading level0 col3\" >Average Math Score</th>        <th class=\"col_heading level0 col4\" >Average Reading Score</th>        <th class=\"col_heading level0 col5\" >Percent Passing Math</th>        <th class=\"col_heading level0 col6\" >Percent Passing Reading</th>        <th class=\"col_heading level0 col7\" >Percent Overall Passing</th>    </tr></thead><tbody>\n",
       "                <tr>\n",
       "                                <td id=\"T_d1d896ec_d31e_11ed_bf01_8c85902a34adrow0_col0\" class=\"data row0 col0\" >15</td>\n",
       "                        <td id=\"T_d1d896ec_d31e_11ed_bf01_8c85902a34adrow0_col1\" class=\"data row0 col1\" >39,170</td>\n",
       "                        <td id=\"T_d1d896ec_d31e_11ed_bf01_8c85902a34adrow0_col2\" class=\"data row0 col2\" >$24,649,428.00</td>\n",
       "                        <td id=\"T_d1d896ec_d31e_11ed_bf01_8c85902a34adrow0_col3\" class=\"data row0 col3\" >78.99</td>\n",
       "                        <td id=\"T_d1d896ec_d31e_11ed_bf01_8c85902a34adrow0_col4\" class=\"data row0 col4\" >81.88</td>\n",
       "                        <td id=\"T_d1d896ec_d31e_11ed_bf01_8c85902a34adrow0_col5\" class=\"data row0 col5\" >74.98%</td>\n",
       "                        <td id=\"T_d1d896ec_d31e_11ed_bf01_8c85902a34adrow0_col6\" class=\"data row0 col6\" >85.81%</td>\n",
       "                        <td id=\"T_d1d896ec_d31e_11ed_bf01_8c85902a34adrow0_col7\" class=\"data row0 col7\" >65.17%</td>\n",
       "            </tr>\n",
       "    </tbody></table>"
      ],
      "text/plain": [
       "<pandas.io.formats.style.Styler at 0x7fe8a5bbc550>"
      ]
     },
     "execution_count": 36,
     "metadata": {},
     "output_type": "execute_result"
    }
   ],
   "source": [
    "district_summary = pd.DataFrame([{\n",
    "    \"Total Schools\" : district_school_count,\n",
    "    \"Total Students\" : district_student_count,\n",
    "    \"Total Budget\" : district_budget,\n",
    "    \"Average Math Score\" : district_math_score,\n",
    "    \"Average Reading Score\" : district_reading_score,\n",
    "    \"Percent Passing Math\" : district_math_percent,\n",
    "    \"Percent Passing Reading\" : district_reading_percent,\n",
    "    \"Percent Overall Passing\" : district_overall_percent\n",
    "    }])\n",
    "\n",
    "district_summary[\"Total Students\"] = district_summary[\"Total Students\"].map(\"{:,}\".format)\n",
    "district_summary[\"Total Budget\"] = district_summary[\"Total Budget\"].map(\"${:,.2f}\".format)\n",
    "district_summary[\"Average Math Score\"] = district_summary[\"Average Math Score\"].map(\"{:,.2f}\".format)\n",
    "district_summary[\"Average Reading Score\"] = district_summary[\"Average Reading Score\"].map(\"{:,.2f}\".format)\n",
    "district_summary[\"Percent Passing Math\"] = district_summary[\"Percent Passing Math\"].map(\"{:.2f}%\".format)\n",
    "district_summary[\"Percent Passing Reading\"] = district_summary[\"Percent Passing Reading\"].map(\"{:.2f}%\".format)\n",
    "district_summary[\"Percent Overall Passing\"] = district_summary[\"Percent Overall Passing\"].map(\"{:.2f}%\".format)\n",
    "\n",
    "district_summary.style.hide_index()"
   ]
  },
  {
   "cell_type": "code",
   "execution_count": 57,
   "metadata": {},
   "outputs": [
    {
     "data": {
      "text/plain": [
       "school_name\n",
       "Huang High School        District\n",
       "Figueroa High School     District\n",
       "Shelton High School       Charter\n",
       "Hernandez High School    District\n",
       "Griffin High School       Charter\n",
       "Wilson High School        Charter\n",
       "Cabrera High School       Charter\n",
       "Bailey High School       District\n",
       "Holden High School        Charter\n",
       "Pena High School          Charter\n",
       "Wright High School        Charter\n",
       "Rodriguez High School    District\n",
       "Johnson High School      District\n",
       "Ford High School         District\n",
       "Thomas High School        Charter\n",
       "Name: type, dtype: object"
      ]
     },
     "execution_count": 57,
     "metadata": {},
     "output_type": "execute_result"
    }
   ],
   "source": [
    "#look back on this from starter code\n",
    "school_types = school_data.set_index([\"school_name\"])[\"type\"]\n",
    "school_types"
   ]
  },
  {
   "cell_type": "code",
   "execution_count": 69,
   "metadata": {},
   "outputs": [
    {
     "data": {
      "text/plain": [
       "Index(['Student ID', 'student_name', 'gender', 'grade', 'school_name',\n",
       "       'reading_score', 'math_score', 'School ID', 'type', 'size', 'budget'],\n",
       "      dtype='object')"
      ]
     },
     "execution_count": 69,
     "metadata": {},
     "output_type": "execute_result"
    }
   ],
   "source": [
    "school_data_complete.columns"
   ]
  },
  {
   "cell_type": "code",
   "execution_count": 96,
   "metadata": {},
   "outputs": [],
   "source": [
    "school_data_byschool = school_data_complete.groupby([\"school_name\"])\n",
    "school_average = school_data_byschool.mean()\n",
    "\n",
    "per_school_counts = school_average[\"size\"]\n",
    "per_school_budget = school_average[\"budget\"]\n",
    "per_school_capita = per_school_budget / per_school_counts\n",
    "per_school_math = school_average[\"math_score\"]\n",
    "per_school_reading = school_average[\"reading_score\"]\n",
    "\n",
    "\n"
   ]
  }
 ],
 "metadata": {
  "kernelspec": {
   "display_name": "PythonData",
   "language": "python",
   "name": "python3"
  },
  "language_info": {
   "codemirror_mode": {
    "name": "ipython",
    "version": 3
   },
   "file_extension": ".py",
   "mimetype": "text/x-python",
   "name": "python",
   "nbconvert_exporter": "python",
   "pygments_lexer": "ipython3",
   "version": "3.7.7"
  },
  "orig_nbformat": 4
 },
 "nbformat": 4,
 "nbformat_minor": 2
}
